{
 "cells": [
  {
   "cell_type": "markdown",
   "metadata": {
    "colab_type": "text",
    "id": "view-in-github"
   },
   "source": [
    "<a href=\"https://colab.research.google.com/github/alexisjkim/conformal_prediction_limitations/blob/main/Conformal_Prediction_Limitations.ipynb\" target=\"_parent\"><img src=\"https://colab.research.google.com/assets/colab-badge.svg\" alt=\"Open In Colab\"/></a>"
   ]
  },
  {
   "cell_type": "code",
   "execution_count": 285,
   "metadata": {
    "id": "cEsZ4OIF6J7L"
   },
   "outputs": [],
   "source": [
    "# imports\n",
    "\n",
    "import numpy as np\n",
    "import matplotlib.pyplot as plt\n",
    "import time\n",
    "import math\n",
    "\n",
    "import torch\n",
    "import torch.nn as nn\n",
    "import torch.nn.functional as F\n",
    "from torch.utils.data import DataLoader, Dataset, ConcatDataset, random_split, Subset, TensorDataset\n",
    "import torchvision\n",
    "\n",
    "import pandas as pd\n",
    "import cv2\n"
   ]
  },
  {
   "cell_type": "code",
   "execution_count": 286,
   "metadata": {
    "colab": {
     "base_uri": "https://localhost:8080/"
    },
    "id": "mfNPe6Md7Cih",
    "outputId": "8b79e19d-e993-4413-dd09-ca057d193344"
   },
   "outputs": [
    {
     "name": "stdout",
     "output_type": "stream",
     "text": [
      "SIZES OF DATASETS: \n",
      "training set:  48000\n",
      "calibration set:  12000\n",
      "testing set:  10000\n"
     ]
    }
   ],
   "source": [
    "# loading data and splitting into train, calibration, test sets\n",
    "\n",
    "batch_size = 128\n",
    "\n",
    "# this dataset has the training data from MNIST; will be split into training and calibration sets\n",
    "mnist_train_set = torchvision.datasets.MNIST(root='./datasets/',\n",
    "                                           train=True,\n",
    "                                           transform=torchvision.transforms.ToTensor(),\n",
    "                                           download=True)\n",
    "\n",
    "\n",
    "\n",
    "# this dataset has the test data from MNIST\n",
    "mnist_test_dataset = torchvision.datasets.MNIST(root='./datasets',\n",
    "                                          train=False,\n",
    "                                          transform=torchvision.transforms.ToTensor())\n",
    "\n",
    "\n",
    "train_percentage = 0.8 # this percentage of the training data set stays in the train set; the rest becomes part of the calibration set\n",
    "\n",
    "train_size = int(train_percentage *len(mnist_train_set))\n",
    "calibration_size = len(mnist_train_set) - train_size\n",
    "\n",
    "mnist_train_set, mnist_cal_set = random_split(mnist_train_set, [train_size, calibration_size])\n",
    "\n",
    "# Data loader\n",
    "mnist_train_loader = torch.utils.data.DataLoader(dataset=mnist_train_set,\n",
    "                                           batch_size=batch_size,\n",
    "                                           shuffle=True, drop_last=True)\n",
    "\n",
    "mnist_cal_loader = torch.utils.data.DataLoader(dataset=mnist_cal_set,\n",
    "                                           batch_size=batch_size,\n",
    "                                           shuffle=True, drop_last=True)\n",
    "\n",
    "# We use drop_last=True to avoid the case where the data / batch_size != int\n",
    "\n",
    "mnist_test_loader = torch.utils.data.DataLoader(dataset=mnist_test_dataset,\n",
    "                                          batch_size=batch_size,\n",
    "                                          shuffle=False)\n",
    "\n",
    "print(\"SIZES OF DATASETS: \")\n",
    "print(\"training set: \", len(mnist_train_loader.dataset))\n",
    "print(\"calibration set: \", len(mnist_cal_loader.dataset))\n",
    "print(\"testing set: \", len(mnist_test_loader.dataset))"
   ]
  },
  {
   "cell_type": "code",
   "execution_count": 287,
   "metadata": {
    "id": "2Be4RGKH7exA"
   },
   "outputs": [],
   "source": [
    "# class for our neural network\n",
    "\n",
    "class TwoLayerNetPiped(torch.nn.Module):\n",
    "    def __init__(self, D_in, H, D_out):\n",
    "        \"\"\"\n",
    "        In the constructor we instantiate two nn.Linear modules and assign them as\n",
    "        member variables.\n",
    "        Parameters:\n",
    "            D_in - dimensions of inputs\n",
    "            H - number of hidden units per layer\n",
    "            D_out - dimensions of outputs\n",
    "        \"\"\"\n",
    "        # initialzing the parent object (important!)\n",
    "        super(TwoLayerNetPiped, self).__init__()\n",
    "        # Create a pipeline - a sequence of layers\n",
    "        self.pipe = torch.nn.Sequential(\n",
    "            torch.nn.Linear(D_in, H),\n",
    "            torch.nn.ReLU(),\n",
    "            torch.nn.Linear(H, D_out))\n",
    "\n",
    "    def forward(self, x):\n",
    "        \"\"\"\n",
    "        In the forward function we accept a Tensor of input data and we must return\n",
    "        a Tensor of output data. We can use Modules defined in the constructor as\n",
    "        well as arbitrary operators on Tensors.\n",
    "        Parameters:\n",
    "            x - tensor of inputs (shape: [BATCH_SIZE, D_in])\n",
    "        \"\"\"\n",
    "        return self.pipe(x)"
   ]
  },
  {
   "cell_type": "code",
   "execution_count": 288,
   "metadata": {
    "id": "QRyTuC717Dfg"
   },
   "outputs": [],
   "source": [
    "# Setting up the model\n",
    "\n",
    "# hyper-parameters:\n",
    "num_epochs = 8\n",
    "learning_rate = 0.001\n",
    "\n",
    "# Device configuration, as before\n",
    "device = torch.device('cuda:0' if torch.cuda.is_available() else 'cpu')\n",
    "\n",
    "\n",
    "# Loss and optimizer\n",
    "criterion = nn.CrossEntropyLoss()\n"
   ]
  },
  {
   "cell_type": "code",
   "execution_count": 289,
   "metadata": {
    "colab": {
     "base_uri": "https://localhost:8080/"
    },
    "id": "E9plDgA17iaW",
    "outputId": "ef43a82b-2ed2-4f1e-dc26-87bd230aac45"
   },
   "outputs": [],
   "source": [
    "# Train the model, given a training set in DataLoader form\n",
    "\n",
    "def train_model(loader, model, optimizer):\n",
    "\n",
    "    model.train()  # training mode\n",
    "    total_step = len(loader)\n",
    "    start_time = time.time()\n",
    "    for epoch in range(num_epochs):\n",
    "        for i, (images, labels) in enumerate(loader):\n",
    "            # each i is a batch of 128 samples\n",
    "            images = images.to(device).view(batch_size, -1)  # represent images as column vectors\n",
    "            labels = labels.to(device)\n",
    "\n",
    "            # Forward pass\n",
    "            outputs = model(images)\n",
    "            loss = criterion(outputs, labels)\n",
    "\n",
    "            # Backward and optimize - ALWAYS IN THIS ORDER!\n",
    "            optimizer.zero_grad()\n",
    "            loss.backward()\n",
    "            optimizer.step()\n",
    "\n",
    "            if (i + 1) % 100 == 0:\n",
    "                print ('Epoch [{}/{}], Step [{}/{}], Loss: {:.4f}, Time: {:.4f} secs'\n",
    "                    .format(epoch + 1, num_epochs, i + 1, total_step, loss.item(), time.time() - start_time))"
   ]
  },
  {
   "cell_type": "code",
   "execution_count": 290,
   "metadata": {},
   "outputs": [],
   "source": [
    "# create model, send it to device\n",
    "og_model = TwoLayerNetPiped(D_in=28*28, H=256, D_out=10).to(device)\n",
    "\n",
    "optimizer = torch.optim.Adam(og_model.parameters(), lr=learning_rate)"
   ]
  },
  {
   "cell_type": "code",
   "execution_count": 291,
   "metadata": {},
   "outputs": [
    {
     "name": "stdout",
     "output_type": "stream",
     "text": [
      "Epoch [1/8], Step [100/375], Loss: 0.2583, Time: 0.3791 secs\n",
      "Epoch [1/8], Step [200/375], Loss: 0.2261, Time: 0.7608 secs\n",
      "Epoch [1/8], Step [300/375], Loss: 0.2773, Time: 1.1357 secs\n",
      "Epoch [2/8], Step [100/375], Loss: 0.1479, Time: 1.7967 secs\n",
      "Epoch [2/8], Step [200/375], Loss: 0.1009, Time: 2.1630 secs\n",
      "Epoch [2/8], Step [300/375], Loss: 0.1512, Time: 2.5245 secs\n",
      "Epoch [3/8], Step [100/375], Loss: 0.0656, Time: 3.1634 secs\n",
      "Epoch [3/8], Step [200/375], Loss: 0.1330, Time: 3.5165 secs\n",
      "Epoch [3/8], Step [300/375], Loss: 0.0591, Time: 3.8741 secs\n",
      "Epoch [4/8], Step [100/375], Loss: 0.0802, Time: 4.4998 secs\n",
      "Epoch [4/8], Step [200/375], Loss: 0.0514, Time: 4.8812 secs\n",
      "Epoch [4/8], Step [300/375], Loss: 0.0977, Time: 5.2459 secs\n",
      "Epoch [5/8], Step [100/375], Loss: 0.0896, Time: 5.9532 secs\n",
      "Epoch [5/8], Step [200/375], Loss: 0.1384, Time: 6.3259 secs\n",
      "Epoch [5/8], Step [300/375], Loss: 0.0413, Time: 6.6824 secs\n",
      "Epoch [6/8], Step [100/375], Loss: 0.0916, Time: 7.3326 secs\n",
      "Epoch [6/8], Step [200/375], Loss: 0.1551, Time: 7.7673 secs\n",
      "Epoch [6/8], Step [300/375], Loss: 0.0620, Time: 8.1524 secs\n",
      "Epoch [7/8], Step [100/375], Loss: 0.0303, Time: 8.8590 secs\n",
      "Epoch [7/8], Step [200/375], Loss: 0.0345, Time: 9.2269 secs\n",
      "Epoch [7/8], Step [300/375], Loss: 0.0818, Time: 9.5844 secs\n",
      "Epoch [8/8], Step [100/375], Loss: 0.1324, Time: 10.2485 secs\n",
      "Epoch [8/8], Step [200/375], Loss: 0.0264, Time: 10.6207 secs\n",
      "Epoch [8/8], Step [300/375], Loss: 0.0501, Time: 11.0103 secs\n"
     ]
    }
   ],
   "source": [
    "train_model(mnist_train_loader, og_model, optimizer)"
   ]
  },
  {
   "cell_type": "code",
   "execution_count": 292,
   "metadata": {
    "colab": {
     "base_uri": "https://localhost:8080/"
    },
    "id": "SDQWQtMs7kfL",
    "outputId": "a9120d7b-d462-4a7f-e109-f54a73419b7a"
   },
   "outputs": [],
   "source": [
    "# Prints out the accuracy of a model, given a model and the test data\n",
    "\n",
    "def test_model(model, loader):\n",
    "\n",
    "  model.eval()  # eval mode (batchnorm uses moving mean/variance instead of mini-batch mean/variance), or use:\n",
    "  with torch.no_grad(): # \"don't keep track of the gradients\" ,can also use .detach()\n",
    "      correct = 0\n",
    "      total = 0\n",
    "      for images, labels in loader:\n",
    "          images = images.to(device).view(images.size(0), -1) #image.size(0) returns batch size\n",
    "          labels = labels.to(device)\n",
    "          outputs = model(images)\n",
    "          _, predicted = torch.max(outputs.data, 1)\n",
    "          total += labels.size(0)\n",
    "          correct += (predicted == labels).sum().item()\n",
    "\n",
    "      #print('Test Accuracy of the model on the 10000 test images: {} %'.format(100 * correct / total))\n",
    "\n",
    "\n",
    "test_model(og_model, mnist_test_loader)"
   ]
  },
  {
   "cell_type": "code",
   "execution_count": 293,
   "metadata": {},
   "outputs": [],
   "source": [
    "# Takes in a model and a calibration/testing set, and returns: 1) a list of the softmaxes for each class, and 2) the indexes that have the highest softmaxes (aka predicted values)\n",
    "\n",
    "def get_probabilities_and_predictions(model, loader):\n",
    "    probs_list = []\n",
    "    preds_list = []\n",
    "    with torch.no_grad():\n",
    "        for images, _ in loader:\n",
    "            images = images.to(device).view(images.size(0), -1) # prepares image for input into model by flattening into a 1d vector\n",
    "            outputs = model(images) # get output of the model when given the image as input\n",
    "            probabilities = torch.nn.functional.softmax(outputs, dim = 1) #1 corresponds to columns\n",
    "            #the prediction outputs the index of what it thinks the class is\n",
    "            #the omitted term is the value\n",
    "            _, predictions = torch.max(outputs.data, 1) # prediction = the index of the highest softmax value (aka the model's prediction). omitted term is the value \n",
    "            # Append to lists\n",
    "            preds_list.extend(predictions.cpu().numpy())\n",
    "            probs_list.extend(probabilities.cpu().numpy())\n",
    "\n",
    "    return probs_list, preds_list"
   ]
  },
  {
   "cell_type": "markdown",
   "metadata": {
    "id": "90lHwmd8fLIP"
   },
   "source": [
    "Conformal prediction starts here"
   ]
  },
  {
   "cell_type": "code",
   "execution_count": 294,
   "metadata": {
    "colab": {
     "base_uri": "https://localhost:8080/"
    },
    "id": "dQJrZ75ZYBRP",
    "outputId": "d1afd056-fa86-44ef-f846-8f82a2dd8296"
   },
   "outputs": [],
   "source": [
    "# Given alpha value and a calibration set loader, returns the quantile (aka threshold for which all testing softmax scores below it should be ) \n",
    "\n",
    "def get_quantile(alpha, loader):\n",
    "\n",
    "  cal_probs = []\n",
    "  cal_preds = []\n",
    "  cal_probs, cal_preds = get_probabilities_and_predictions(og_model, loader)\n",
    "\n",
    "  cal_scores = []\n",
    "  for prob, true_label in zip(cal_probs, cal_preds): #prob is the probability and true_label is index of pred\n",
    "    true_class_prob = prob[true_label] #the corresponding lists with their prob function getting the most predicted class\n",
    "    cal_scores.append(1 - true_class_prob) #s_i score\n",
    "\n",
    "  cal_scores = np.array(cal_scores)\n",
    "  sorted_scores = np.sort(cal_scores) #probabilities\n",
    "\n",
    "  n = 0\n",
    "  for _, labels in loader:\n",
    "    n += labels.size(0)\n",
    "    \n",
    "  q_level = math.ceil((1 - alpha) * (n + 1)) / n\n",
    "\n",
    "  \n",
    "# print(f\"Adjusted quantile level: {q_level}\")\n",
    "  return np.quantile(sorted_scores, min(1, q_level))\n",
    "\n",
    "\n"
   ]
  },
  {
   "cell_type": "code",
   "execution_count": 295,
   "metadata": {},
   "outputs": [
    {
     "name": "stdout",
     "output_type": "stream",
     "text": [
      "0.15976281364959094\n"
     ]
    }
   ],
   "source": [
    "alpha = 0.05\n",
    "threshold = get_quantile(alpha, mnist_cal_loader) #for the calibration set\n",
    "print(threshold)"
   ]
  },
  {
   "cell_type": "code",
   "execution_count": 296,
   "metadata": {
    "id": "sPdmY-_OdGe5"
   },
   "outputs": [],
   "source": [
    "# Returns prediction set\n",
    "\n",
    "def conformal_prediction(probabilities, threshold):\n",
    "    predictions = []\n",
    "    for prob in probabilities:\n",
    "        sorted_indices = np.argsort(prob)[::-1]\n",
    "     #   total = 0.0\n",
    "     #   prediction = []\n",
    "     #   for i in sorted_indices:\n",
    "        #    total += prob[i]\n",
    "        #    prediction.append(i)\n",
    "        #    if total > 1 - threshold: #we do 1 - threshold because we want to observe the right side as we are adding in ascending order\n",
    "        #        break\n",
    "        # predictions.append(prediction)\n",
    "\n",
    "        prediction = []\n",
    "\n",
    "        for i in range(len(prob)):\n",
    "            if prob[i] >= 1 - threshold:\n",
    "                prediction.append(i)\n",
    "\n",
    "        predictions.append(prediction)\n",
    "    return predictions\n",
    "\n",
    "\n",
    "\n"
   ]
  },
  {
   "cell_type": "code",
   "execution_count": 297,
   "metadata": {
    "id": "KfymFHAH2Y0X"
   },
   "outputs": [],
   "source": [
    "#evaluation\n",
    "def evaluate_and_print(observed_labels, conformal_prediction, predicted, start_row, end_row, should_i_print=True):\n",
    "  formatted_output = pd.DataFrame({\n",
    "    'observed labels': observed_labels,\n",
    "    'conformal prediction set': conformal_prediction,\n",
    "    'prediction': predicted\n",
    "  })\n",
    "\n",
    "\n",
    "  #evaluation metric\n",
    "  hits = 0\n",
    "  total = len(observed_labels)\n",
    "  for i in range(len(observed_labels)):\n",
    "    conf_pred_row = conformal_prediction[i]\n",
    "    observed = observed_labels[i]\n",
    "\n",
    "    if observed in conf_pred_row:\n",
    "      hits += 1\n",
    "\n",
    "  score = hits/total *100\n",
    "\n",
    "  if (should_i_print == False):\n",
    "    print(\"the prediction was in the set \", score, \" percent of the time\")\n",
    "    print(formatted_output[start_row:end_row])\n",
    "\n",
    "  return score\n"
   ]
  },
  {
   "cell_type": "code",
   "execution_count": 298,
   "metadata": {},
   "outputs": [],
   "source": [
    "#getting observed label functions\n",
    "def get_observed_labels(loader):\n",
    "    observed_labels = []\n",
    "    with torch.no_grad():\n",
    "        for images, labels in loader:\n",
    "            observed_labels.extend(labels.cpu().numpy())\n",
    "    return observed_labels"
   ]
  },
  {
   "cell_type": "code",
   "execution_count": 299,
   "metadata": {
    "colab": {
     "base_uri": "https://localhost:8080/"
    },
    "id": "WJ9v7D221CeL",
    "outputId": "fc805388-e12e-41f8-b3a1-e5e198375a04"
   },
   "outputs": [
    {
     "name": "stdout",
     "output_type": "stream",
     "text": [
      "The conformal prediction accuracy based on training data and testing data from the same distribution is:\n"
     ]
    }
   ],
   "source": [
    "#evaluating our testing data set\n",
    "\n",
    "test_observed_labels = get_observed_labels(mnist_test_loader)\n",
    "\n",
    "test_probs = []\n",
    "test_preds = []\n",
    "test_probs, test_preds = get_probabilities_and_predictions(og_model, mnist_test_loader)\n",
    "\n",
    "\n",
    "conformal_predictions = conformal_prediction(test_probs, threshold)\n",
    "print(\"The conformal prediction accuracy based on training data and testing data from the same distribution is:\")\n",
    "train_test_same_score = evaluate_and_print(test_observed_labels, conformal_predictions, test_preds, 300, 450)\n",
    "\n"
   ]
  },
  {
   "cell_type": "code",
   "execution_count": 300,
   "metadata": {},
   "outputs": [
    {
     "name": "stdout",
     "output_type": "stream",
     "text": [
      "size:  1\n",
      "size:  4\n",
      "size:  7\n",
      "size:  10\n",
      "size:  13\n",
      "size:  16\n",
      "size:  19\n",
      "size:  22\n",
      "size:  25\n",
      "size:  28\n",
      "size:  31\n",
      "size:  34\n",
      "size:  37\n",
      "size:  40\n",
      "size:  43\n",
      "size:  46\n",
      "size:  49\n",
      "size:  52\n",
      "size:  55\n",
      "size:  58\n",
      "size:  61\n",
      "size:  64\n",
      "size:  67\n",
      "size:  70\n",
      "size:  73\n",
      "size:  76\n",
      "size:  79\n",
      "size:  82\n",
      "size:  85\n",
      "size:  88\n",
      "size:  91\n",
      "size:  94\n",
      "size:  97\n",
      "size:  100\n",
      "size:  103\n",
      "size:  106\n",
      "size:  109\n",
      "size:  112\n",
      "size:  115\n",
      "size:  118\n",
      "size:  121\n",
      "size:  124\n",
      "size:  127\n",
      "size:  130\n",
      "size:  133\n",
      "size:  136\n",
      "size:  139\n",
      "size:  142\n",
      "size:  145\n",
      "size:  148\n",
      "size:  151\n",
      "size:  154\n",
      "size:  157\n",
      "size:  160\n",
      "size:  163\n",
      "size:  166\n",
      "size:  169\n",
      "size:  172\n",
      "size:  175\n",
      "size:  178\n",
      "size:  181\n",
      "size:  184\n",
      "size:  187\n",
      "size:  190\n",
      "size:  193\n",
      "size:  196\n",
      "size:  199\n",
      "size:  202\n",
      "size:  205\n",
      "size:  208\n",
      "size:  211\n",
      "size:  214\n",
      "size:  217\n",
      "size:  220\n",
      "size:  223\n",
      "size:  226\n",
      "size:  229\n",
      "size:  232\n",
      "size:  235\n",
      "size:  238\n",
      "size:  241\n",
      "size:  244\n",
      "size:  247\n",
      "size:  250\n",
      "size:  253\n",
      "size:  256\n",
      "size:  259\n",
      "size:  262\n",
      "size:  265\n",
      "size:  268\n",
      "size:  271\n",
      "size:  274\n",
      "size:  277\n",
      "size:  280\n",
      "size:  283\n",
      "size:  286\n",
      "size:  289\n",
      "size:  292\n",
      "size:  295\n",
      "size:  298\n",
      "size:  301\n",
      "size:  304\n",
      "size:  307\n",
      "size:  310\n",
      "size:  313\n",
      "size:  316\n",
      "size:  319\n",
      "size:  322\n",
      "size:  325\n",
      "size:  328\n",
      "size:  331\n",
      "size:  334\n",
      "size:  337\n",
      "size:  340\n",
      "size:  343\n",
      "size:  346\n",
      "size:  349\n",
      "size:  352\n",
      "size:  355\n",
      "size:  358\n",
      "size:  361\n",
      "size:  364\n",
      "size:  367\n",
      "size:  370\n",
      "size:  373\n",
      "size:  376\n",
      "size:  379\n",
      "size:  382\n",
      "size:  385\n",
      "size:  388\n",
      "size:  391\n",
      "size:  394\n",
      "size:  397\n",
      "size:  400\n",
      "size:  403\n",
      "size:  406\n",
      "size:  409\n",
      "size:  412\n",
      "size:  415\n",
      "size:  418\n",
      "size:  421\n",
      "size:  424\n",
      "size:  427\n",
      "size:  430\n",
      "size:  433\n",
      "size:  436\n",
      "size:  439\n",
      "size:  442\n",
      "size:  445\n",
      "size:  448\n",
      "size:  451\n",
      "size:  454\n",
      "size:  457\n",
      "size:  460\n",
      "size:  463\n",
      "size:  466\n",
      "size:  469\n",
      "size:  472\n",
      "size:  475\n",
      "size:  478\n",
      "size:  481\n",
      "size:  484\n",
      "size:  487\n",
      "size:  490\n",
      "size:  493\n",
      "size:  496\n",
      "size:  499\n"
     ]
    }
   ],
   "source": [
    "# PART 2: reducing the size of the calibration set\n",
    "\n",
    "alpha = 0.05\n",
    "\n",
    "cal_set_size = [] # x axis\n",
    "accuracy_scores = [] # y axis\n",
    "average_sizes = []\n",
    "\n",
    "test_probs, test_preds = get_probabilities_and_predictions(og_model, mnist_test_loader) # Get the softmaxes and predictions from the test data set\n",
    "labels = get_observed_labels(mnist_test_loader) # Get ground truth labels, and the softmaxes and predictions\n",
    "\n",
    "for i in range(1, 500, 3):\n",
    "\n",
    "    # Shrinks the  calibration set to be i elements, and makes it into a new loader called reduced_loader\n",
    "    reduced_dataset = Subset(mnist_cal_loader.dataset, list(range(i)))\n",
    "    reduced_loader = DataLoader(reduced_dataset, batch_size=batch_size, shuffle=False)\n",
    "\n",
    "    print(\"size: \", len(reduced_loader.dataset))\n",
    "\n",
    "    # Get threshold value based on the reduced_loader\n",
    "    reduced_threshold = get_quantile(alpha, reduced_loader)\n",
    "\n",
    "    # Get the conformal prediction sets for the reduced_loader based on the reduced_threshold\n",
    "    reduced_conformal_predictions = conformal_prediction(test_probs, reduced_threshold)\n",
    "\n",
    "    # i (size of calibration set) is the x axis for our graph\n",
    "    cal_set_size.append(i)\n",
    "\n",
    "    # reduced_score = the accuracy score of our reduced dataset; it is the y axis of our graph\n",
    "    reduced_score = evaluate_and_print(labels, reduced_conformal_predictions, test_preds, 0, len(labels),True)\n",
    "\n",
    "\n",
    "    sizes = [len(sublist) for sublist in reduced_conformal_predictions]\n",
    "    total_size = sum(sizes)\n",
    "    num_sublists = len(reduced_conformal_predictions)\n",
    "    average_size = total_size / num_sublists\n",
    "    average_sizes.append(average_size)\n",
    "\n",
    "    accuracy_scores.append(reduced_score)\n",
    "#   print(\"score: \", reduced_score)\n",
    "    \n",
    "    mnist_cal_loader = torch.utils.data.DataLoader(dataset=mnist_cal_set,\n",
    "                                           batch_size=batch_size,\n",
    "                                           shuffle=True, drop_last=True)\n",
    "    \n",
    "    "
   ]
  },
  {
   "cell_type": "code",
   "execution_count": 301,
   "metadata": {},
   "outputs": [
    {
     "data": {
      "image/png": "[encoded data removed]",
      "text/plain": [
       "<Figure size 640x480 with 1 Axes>"
      ]
     },
     "metadata": {},
     "output_type": "display_data"
    },
    {
     "data": {
      "image/png": "[encoded data removed]",
      "text/plain": [
       "<Figure size 640x480 with 1 Axes>"
      ]
     },
     "metadata": {},
     "output_type": "display_data"
    }
   ],
   "source": [
    "plt.plot(cal_set_size, accuracy_scores, marker='o', linestyle='-', color='b', label='Accuracy')  # Plot the data\n",
    "plt.title('Calibration Set Size vs Accuracy Scores')\n",
    "plt.xlabel('Calibration Set Size')\n",
    "plt.ylabel('Accuracy Scores')\n",
    "plt.show()\n",
    "\n",
    "\n",
    "plt.plot(cal_set_size, average_sizes, marker='o', linestyle='-', color='b', label='Accuracy')  # Plot the data\n",
    "plt.title('Calibration Set Size vs Average prediction set sizes')\n",
    "plt.xlabel('Calibration Set Size')\n",
    "plt.ylabel('Average prediction set size')\n",
    "plt.show()"
   ]
  },
  {
   "cell_type": "markdown",
   "metadata": {
    "id": "Jvpco2U-XE1R"
   },
   "source": [
    "Repeating the experiment with test data that doesn't match the calibration set."
   ]
  },
  {
   "cell_type": "markdown",
   "metadata": {},
   "source": [
    "Functions for Blurring"
   ]
  },
  {
   "cell_type": "code",
   "execution_count": 302,
   "metadata": {},
   "outputs": [],
   "source": [
    "def blur_images(image):\n",
    "  return torch.tensor(cv2.blur(image.numpy(), (30, 30)))"
   ]
  },
  {
   "cell_type": "code",
   "execution_count": 303,
   "metadata": {},
   "outputs": [],
   "source": [
    "#get blurred data\n",
    "#blur the images\n",
    "def get_blurred_data(loader):\n",
    "    blurred_images = []\n",
    "    blurred_labels = []\n",
    "\n",
    "    # adding blur to every image in the training set\n",
    "    with torch.no_grad():\n",
    "        for images, labels in loader:\n",
    "            for i in range(len(images)):\n",
    "                blurred_image = blur_images(images[i])\n",
    "                blurred_images.append(blurred_image)\n",
    "                blurred_labels.append(labels[i])\n",
    "\n",
    "    blurred_images = torch.stack(blurred_images)\n",
    "    blurred_labels = torch.tensor(blurred_labels)\n",
    "\n",
    "    return blurred_images, blurred_labels"
   ]
  },
  {
   "cell_type": "code",
   "execution_count": 304,
   "metadata": {},
   "outputs": [],
   "source": [
    "def create_blur_loader(blurred_images, blurred_labels):\n",
    "    # Create a TensorDataset and DataLoader for the blurred images\n",
    "    blurred_dataset = TensorDataset(blurred_images, blurred_labels)\n",
    "    blurred_loader = DataLoader(blurred_dataset, batch_size=128, shuffle=False)\n",
    "    return blurred_loader"
   ]
  },
  {
   "cell_type": "code",
   "execution_count": 305,
   "metadata": {
    "colab": {
     "base_uri": "https://localhost:8080/"
    },
    "id": "DeSTaEoWXA4L",
    "outputId": "282e50e4-856e-48ea-90d5-f034e336dfe4"
   },
   "outputs": [
    {
     "name": "stdout",
     "output_type": "stream",
     "text": [
      "This is the conformal prediction accuracy based on training data and testing data from different distributions. \n",
      "The training data contains normal images while the testing data were all blurred:\n"
     ]
    }
   ],
   "source": [
    "#testing our model on blurred images\n",
    "\n",
    "blur_loader = torch.utils.data.DataLoader(dataset=mnist_test_dataset,\n",
    "                                          batch_size=batch_size,\n",
    "                                          shuffle=False)\n",
    "\n",
    "\n",
    "observed_labels = get_observed_labels(blur_loader)\n",
    "\n",
    "blurred_images, blurred_labels = get_blurred_data(blur_loader)\n",
    "blurred_loader = create_blur_loader(blurred_images, blurred_labels)\n",
    "\n",
    "blur_probs = []\n",
    "blur_preds = []\n",
    "test_model(og_model, blurred_loader)\n",
    "blur_probs, blur_preds = get_probabilities_and_predictions(og_model, blurred_loader)\n",
    "'''''\n",
    "blur_probs = []\n",
    "blur_pred = []\n",
    "\n",
    "# Flatten images for model input\n",
    "blurred_images = blurred_images.view(len(blurred_images), -1).to(device)\n",
    "\n",
    "#find probabilities and predictions\n",
    "with torch.no_grad():\n",
    "  outputs = model(blurred_images)\n",
    "  probabilities = torch.nn.functional.softmax(outputs, dim = 1)\n",
    "  _, blur_pred = torch.max(outputs.data, 1)\n",
    "\n",
    "\n",
    "blur_preds = blur_pred.cpu().numpy()\n",
    "blur_probs = probabilities.cpu().numpy()'''\n",
    "\n",
    "\n",
    "conformal_predictions = conformal_prediction(blur_probs, threshold)\n",
    "print(\"This is the conformal prediction accuracy based on training data and testing data from different distributions. \\nThe training data contains normal images while the testing data were all blurred:\")\n",
    "train_blur_test_score = evaluate_and_print(observed_labels, conformal_predictions, blur_preds, 10, 200)\n",
    "\n"
   ]
  },
  {
   "cell_type": "markdown",
   "metadata": {
    "id": "fKO6EeFbrZfP"
   },
   "source": [
    "Training on blurred Images"
   ]
  },
  {
   "cell_type": "code",
   "execution_count": 306,
   "metadata": {
    "colab": {
     "base_uri": "https://localhost:8080/"
    },
    "id": "ifrZ2EUErZRA",
    "outputId": "c8bf43cb-ca6d-429d-edcb-a1242e3b47c9"
   },
   "outputs": [
    {
     "name": "stdout",
     "output_type": "stream",
     "text": [
      "Epoch [1/8], Step [100/375], Loss: 0.7807, Time: 0.1258 secs\n",
      "Epoch [1/8], Step [200/375], Loss: 0.5389, Time: 0.2449 secs\n",
      "Epoch [1/8], Step [300/375], Loss: 0.5438, Time: 0.3531 secs\n",
      "Epoch [2/8], Step [100/375], Loss: 0.3114, Time: 0.5410 secs\n",
      "Epoch [2/8], Step [200/375], Loss: 0.3184, Time: 0.6540 secs\n",
      "Epoch [2/8], Step [300/375], Loss: 0.4258, Time: 0.7795 secs\n",
      "Epoch [3/8], Step [100/375], Loss: 0.2130, Time: 0.9873 secs\n",
      "Epoch [3/8], Step [200/375], Loss: 0.2357, Time: 1.1052 secs\n",
      "Epoch [3/8], Step [300/375], Loss: 0.3812, Time: 1.2302 secs\n",
      "Epoch [4/8], Step [100/375], Loss: 0.1728, Time: 1.4331 secs\n",
      "Epoch [4/8], Step [200/375], Loss: 0.1930, Time: 1.5366 secs\n",
      "Epoch [4/8], Step [300/375], Loss: 0.3471, Time: 1.6461 secs\n",
      "Epoch [5/8], Step [100/375], Loss: 0.1490, Time: 1.8745 secs\n",
      "Epoch [5/8], Step [200/375], Loss: 0.1676, Time: 1.9916 secs\n",
      "Epoch [5/8], Step [300/375], Loss: 0.3126, Time: 2.1058 secs\n",
      "Epoch [6/8], Step [100/375], Loss: 0.1301, Time: 2.2988 secs\n",
      "Epoch [6/8], Step [200/375], Loss: 0.1502, Time: 2.4348 secs\n",
      "Epoch [6/8], Step [300/375], Loss: 0.2853, Time: 2.5514 secs\n",
      "Epoch [7/8], Step [100/375], Loss: 0.1201, Time: 2.7409 secs\n",
      "Epoch [7/8], Step [200/375], Loss: 0.1400, Time: 2.8473 secs\n",
      "Epoch [7/8], Step [300/375], Loss: 0.2622, Time: 2.9659 secs\n",
      "Epoch [8/8], Step [100/375], Loss: 0.1107, Time: 3.1489 secs\n",
      "Epoch [8/8], Step [200/375], Loss: 0.1335, Time: 3.2632 secs\n",
      "Epoch [8/8], Step [300/375], Loss: 0.2424, Time: 3.3669 secs\n"
     ]
    }
   ],
   "source": [
    "# Train the model -- additional training on blurred images without calibration\n",
    "\n",
    "\n",
    "blurred_train_loader = torch.utils.data.DataLoader(dataset=mnist_train_set,\n",
    "                                          batch_size=batch_size,\n",
    "                                          shuffle=False)\n",
    "\n",
    "\n",
    "observed_labels = get_observed_labels(blurred_train_loader)\n",
    "\n",
    "blurred_images, blurred_labels = get_blurred_data(blurred_train_loader)\n",
    "blurred_train_loader = create_blur_loader(blurred_images, blurred_labels)\n",
    "blur_train_probs = []\n",
    "blur_train_preds = []\n",
    "blur_probs, blur_preds = get_probabilities_and_predictions(og_model, blurred_train_loader)\n",
    "\n",
    "\n",
    "train_model(blurred_train_loader, og_model, optimizer)\n"
   ]
  },
  {
   "cell_type": "code",
   "execution_count": 314,
   "metadata": {
    "colab": {
     "base_uri": "https://localhost:8080/"
    },
    "id": "CN6NVvwWuWUi",
    "outputId": "de797f9c-b59a-4449-8aff-2563a8b69519"
   },
   "outputs": [
    {
     "name": "stdout",
     "output_type": "stream",
     "text": [
      "After putting additional training with blurred images with no recalibration:\n"
     ]
    }
   ],
   "source": [
    "#now use original calibration (the conformal predicition with the blurry images)\n",
    "\n",
    "#creating blurry images again\n",
    "\n",
    "blur_test_loader = torch.utils.data.DataLoader(dataset=mnist_test_dataset,\n",
    "                                          batch_size=batch_size,\n",
    "                                          shuffle=False)\n",
    "\n",
    "observed_labels = get_observed_labels(blur_test_loader)\n",
    "\n",
    "blurred_images, blurred_labels = get_blurred_data(blur_test_loader)\n",
    "blurred_test_loader = create_blur_loader(blurred_images, blurred_labels)\n",
    "\n",
    "\n",
    "blur_test_preds = []\n",
    "blur_test_probs = []\n",
    "\n",
    "blur_test_probs, blur_test_preds = get_probabilities_and_predictions(og_model, blurred_test_loader)\n",
    "\n",
    "\n",
    "conformal_predictions = conformal_prediction(blur_test_probs, threshold)\n",
    "print(\"After putting additional training with blurred images with no recalibration:\")\n",
    "retrain_blur_norecal_score = evaluate_and_print(observed_labels, conformal_predictions, blur_test_preds, 100, 150)\n"
   ]
  },
  {
   "cell_type": "markdown",
   "metadata": {},
   "source": [
    "We want to compare 3 things\n",
    "1) The original data\n",
    "2) No retraing, no recalibration, feed test data with all blurred images\n",
    "3) adding training but use original calibration, and feed blurred images"
   ]
  },
  {
   "cell_type": "code",
   "execution_count": 308,
   "metadata": {},
   "outputs": [
    {
     "data": {
      "image/png": "[encoded data removed]",
      "text/plain": [
       "<Figure size 1000x500 with 1 Axes>"
      ]
     },
     "metadata": {},
     "output_type": "display_data"
    }
   ],
   "source": [
    "import matplotlib.pyplot as plt\n",
    "\n",
    "data = {'original data': train_test_same_score, \n",
    "        'normal training data with blurred test data': train_blur_test_score}\n",
    "\n",
    "training_or_testing_set = list(data.keys())\n",
    "conformal_prediction_accuracy_score = list(data.values())\n",
    "\n",
    "fig = plt.figure(figsize = (10, 5))\n",
    "plt.bar(training_or_testing_set, conformal_prediction_accuracy_score, color = 'maroon', width = 0.5)\n",
    "\n",
    "plt.xlabel(\"Datasets\")\n",
    "plt.ylabel(\"Conformal Prediction Accuracy Score\")\n",
    "plt.title(\"Conformal Prediction Limitation: Out of Distribution Datasets\")\n",
    "plt.show()\n"
   ]
  },
  {
   "cell_type": "code",
   "execution_count": 309,
   "metadata": {
    "colab": {
     "base_uri": "https://localhost:8080/"
    },
    "id": "IIFTKRv_24AV",
    "outputId": "d223fbf6-4a34-4bdb-91c3-fe76cf93f420"
   },
   "outputs": [
    {
     "name": "stdout",
     "output_type": "stream",
     "text": [
      "0.4149300200083563\n",
      "After putting additional training with blurred images with no recalibration:\n"
     ]
    },
    {
     "data": {
      "text/plain": [
       "92.04"
      ]
     },
     "execution_count": 309,
     "metadata": {},
     "output_type": "execute_result"
    }
   ],
   "source": [
    "#Now lets compare. lets calibrate the new blurred images\n",
    "#Calibration of the blurred images\n",
    "\n",
    "#blur everyother image in the calibration data\n",
    "\n",
    "\n",
    "mnist_cal_loader = torch.utils.data.DataLoader(dataset=mnist_cal_set,\n",
    "                                           batch_size=batch_size,\n",
    "                                           shuffle=True, drop_last=True)\n",
    "\n",
    "\n",
    "#blurs every other images\n",
    "new_cal_images = []\n",
    "new_cal_labels = []\n",
    "with torch.no_grad():\n",
    "    for images, labels in mnist_cal_loader:\n",
    "        for i in range(len(images)):\n",
    "          if i % 2 == 0:\n",
    "            blurred_image = blur_images(images[i])\n",
    "            new_cal_images.append(blurred_image)\n",
    "            new_cal_labels.append(labels[i])\n",
    "          else:\n",
    "            new_cal_images.append(images[i])\n",
    "            new_cal_labels.append(labels[i])\n",
    "\n",
    "\n",
    "new_cal_images = torch.stack(new_cal_images)\n",
    "new_cal_labels = torch.tensor(new_cal_labels)\n",
    "\n",
    "new_cal_loader = create_blur_loader(new_cal_images, new_cal_labels)\n",
    "\n",
    "new_cal_observed_labels = get_observed_labels(new_cal_loader)\n",
    "\n",
    "alpha = 0.05\n",
    "new_cal_threshold = get_quantile(alpha, new_cal_loader) #for the calibration set\n",
    "print(new_cal_threshold)\n",
    "\n",
    "#after calibrating get the accuracy\n",
    "# we calibratted on 50:50 now we want to test on all blurred images\n",
    "\n",
    "conformal_predictions = conformal_prediction(blur_test_probs, new_cal_threshold)\n",
    "print(\"After putting additional training with blurred images with no recalibration:\")\n",
    "evaluate_and_print(observed_labels, conformal_predictions, blur_test_preds, 100, 150)\n"
   ]
  },
  {
   "cell_type": "markdown",
   "metadata": {
    "id": "yfuFjZo24R64"
   },
   "source": []
  },
  {
   "cell_type": "code",
   "execution_count": 310,
   "metadata": {},
   "outputs": [
    {
     "name": "stdout",
     "output_type": "stream",
     "text": [
      "The conformal prediction accuracy based on training data and testing data from the same distribution is:\n"
     ]
    },
    {
     "data": {
      "text/plain": [
       "17.41"
      ]
     },
     "execution_count": 310,
     "metadata": {},
     "output_type": "execute_result"
    }
   ],
   "source": [
    "#sanity check -- what happens if you test with all non-bluured images with 50:50 calibration\n",
    "test_probs = []\n",
    "test_preds = []\n",
    "test_probs, test_preds = get_probabilities_and_predictions(og_model, mnist_test_loader)\n",
    "\n",
    "\n",
    "\n",
    "test_observed_labels = get_observed_labels(mnist_test_loader)\n",
    "new_cal_normal_conformal_predictions = conformal_prediction(test_probs, new_cal_threshold)\n",
    "print(\"The conformal prediction accuracy based on training data and testing data from the same distribution is:\")\n",
    "evaluate_and_print(test_observed_labels, new_cal_normal_conformal_predictions, test_preds, 300, 450)"
   ]
  },
  {
   "cell_type": "code",
   "execution_count": 315,
   "metadata": {},
   "outputs": [],
   "source": [
    "def blur_some(loader, value):\n",
    "    blur_count = 0\n",
    "    non_blur_count = 0\n",
    "    blur_some_images = []\n",
    "    blur_some_labels = []\n",
    "    with torch.no_grad():\n",
    "        for images, labels in loader:\n",
    "            for i in range(len(images)):\n",
    "                if i > value: #the less the value of VALUE, the MORE blurred images\n",
    "                    blurred_image = blur_images(images[i])\n",
    "                    blur_some_images.append(blurred_image)\n",
    "                    blur_some_labels.append(labels[i])\n",
    "                    blur_count += 1\n",
    "                else:\n",
    "                    blur_some_images.append(images[i])\n",
    "                    blur_some_labels.append(labels[i])\n",
    "                    non_blur_count += 1\n",
    "\n",
    "\n",
    "    blur_some_images = torch.stack(blur_some_images)\n",
    "    blur_some_labels = torch.tensor(blur_some_labels)\n",
    "    \n",
    "    return blur_some_images,blur_some_labels"
   ]
  },
  {
   "cell_type": "code",
   "execution_count": 316,
   "metadata": {},
   "outputs": [
    {
     "name": "stdout",
     "output_type": "stream",
     "text": [
      "Epoch [1/7], Step [100/375], Loss: 0.4475, Time: 0.1187 secs\n",
      "Epoch [1/7], Step [200/375], Loss: 0.3698, Time: 0.2341 secs\n",
      "Epoch [1/7], Step [300/375], Loss: 0.5090, Time: 0.3545 secs\n",
      "Epoch [2/7], Step [100/375], Loss: 0.2201, Time: 0.5531 secs\n",
      "Epoch [2/7], Step [200/375], Loss: 0.2098, Time: 0.6652 secs\n",
      "Epoch [2/7], Step [300/375], Loss: 0.3818, Time: 0.7779 secs\n",
      "Epoch [3/7], Step [100/375], Loss: 0.1350, Time: 0.9766 secs\n",
      "Epoch [3/7], Step [200/375], Loss: 0.1365, Time: 1.0807 secs\n",
      "Epoch [3/7], Step [300/375], Loss: 0.3128, Time: 1.1890 secs\n",
      "Epoch [4/7], Step [100/375], Loss: 0.0933, Time: 1.3964 secs\n",
      "Epoch [4/7], Step [200/375], Loss: 0.0975, Time: 1.5151 secs\n",
      "Epoch [4/7], Step [300/375], Loss: 0.2551, Time: 1.6386 secs\n",
      "Epoch [5/7], Step [100/375], Loss: 0.0695, Time: 1.8428 secs\n",
      "Epoch [5/7], Step [200/375], Loss: 0.0788, Time: 1.9649 secs\n",
      "Epoch [5/7], Step [300/375], Loss: 0.2180, Time: 2.0823 secs\n",
      "Epoch [6/7], Step [100/375], Loss: 0.0580, Time: 2.2868 secs\n",
      "Epoch [6/7], Step [200/375], Loss: 0.0671, Time: 2.4029 secs\n",
      "Epoch [6/7], Step [300/375], Loss: 0.1903, Time: 2.5358 secs\n",
      "Epoch [7/7], Step [100/375], Loss: 0.0488, Time: 2.8075 secs\n",
      "Epoch [7/7], Step [200/375], Loss: 0.0572, Time: 2.9263 secs\n",
      "Epoch [7/7], Step [300/375], Loss: 0.1663, Time: 3.0809 secs\n"
     ]
    }
   ],
   "source": [
    "#Setting up new model\n",
    "split_amount = 110\n",
    "split_model = TwoLayerNetPiped(D_in=28*28, H=256, D_out=10).to(device)\n",
    "optimizer = torch.optim.Adam(split_model.parameters(), lr=learning_rate)\n",
    "num_epochs = 7\n",
    "\n",
    "split_train_loader = torch.utils.data.DataLoader(dataset=mnist_train_set,\n",
    "                                          batch_size=batch_size,\n",
    "                                          shuffle=False)\n",
    "\n",
    "split_images, split_labels = blur_some(split_train_loader, split_amount)\n",
    "split_train_loader = create_blur_loader(split_images, split_labels)\n",
    "train_model(split_train_loader, split_model, optimizer)\n",
    "\n"
   ]
  },
  {
   "cell_type": "code",
   "execution_count": 317,
   "metadata": {},
   "outputs": [
    {
     "name": "stdout",
     "output_type": "stream",
     "text": [
      "0.4138012503584226\n"
     ]
    }
   ],
   "source": [
    "#recalibrate\n",
    "\n",
    "\n",
    "split_cal_loader = torch.utils.data.DataLoader(dataset=mnist_cal_set,\n",
    "                                          batch_size=batch_size,\n",
    "                                          shuffle=False)\n",
    "\n",
    "split_cal_images, split_cal_labels = blur_some(split_cal_loader, split_amount)\n",
    "split_cal_loader = create_blur_loader(split_cal_images, split_cal_labels)\n",
    "\n",
    "alpha = 0.05\n",
    "split_cal_threshold = get_quantile(alpha, split_cal_loader) #for the calibration set\n",
    "print(split_cal_threshold)"
   ]
  },
  {
   "cell_type": "code",
   "execution_count": 334,
   "metadata": {},
   "outputs": [
    {
     "name": "stdout",
     "output_type": "stream",
     "text": [
      "0   73.61\n",
      "1   73.8\n",
      "2   74.02\n",
      "3   74.22\n",
      "4   74.36\n",
      "5   74.53\n",
      "6   74.74\n",
      "7   74.98\n",
      "8   75.14\n",
      "9   75.4\n",
      "10   75.53999999999999\n",
      "11   75.7\n",
      "12   75.91\n",
      "13   76.12\n",
      "14   76.29\n",
      "15   76.48\n",
      "16   76.64\n",
      "17   76.77000000000001\n",
      "18   77.0\n",
      "19   77.16\n",
      "20   77.32\n",
      "21   77.58\n",
      "22   77.73\n",
      "23   77.85\n",
      "24   78.0\n",
      "25   78.13\n",
      "26   78.27\n",
      "27   78.36\n",
      "28   78.51\n",
      "29   78.66\n",
      "30   78.84\n",
      "31   79.08\n",
      "32   79.23\n",
      "33   79.38\n",
      "34   79.58\n",
      "35   79.77\n",
      "36   79.91\n",
      "37   80.08\n",
      "38   80.25999999999999\n",
      "39   80.43\n",
      "40   80.58999999999999\n",
      "41   80.72\n",
      "42   80.93\n",
      "43   81.06\n",
      "44   81.26\n",
      "45   81.45\n",
      "46   81.55\n",
      "47   81.69\n",
      "48   81.89999999999999\n",
      "49   82.07\n",
      "50   82.28999999999999\n",
      "51   82.54\n",
      "52   82.76\n",
      "53   82.83\n",
      "54   83.05\n",
      "55   83.3\n",
      "56   83.41\n",
      "57   83.62\n",
      "58   83.81\n",
      "59   84.05\n",
      "60   84.23\n",
      "61   84.45\n",
      "62   84.67\n",
      "63   84.91\n",
      "64   85.05\n",
      "65   85.26\n",
      "66   85.49\n",
      "67   85.72\n",
      "68   85.95\n",
      "69   86.15\n",
      "70   86.33999999999999\n",
      "71   86.46000000000001\n",
      "72   86.61999999999999\n",
      "73   86.77\n",
      "74   86.98\n",
      "75   87.13\n",
      "76   87.31\n",
      "77   87.46000000000001\n",
      "78   87.56\n",
      "79   87.69\n",
      "80   87.88\n",
      "81   88.05\n",
      "82   88.26\n",
      "83   88.44999999999999\n",
      "84   88.6\n",
      "85   88.79\n",
      "86   88.97\n",
      "87   89.2\n",
      "88   89.38000000000001\n",
      "89   89.56\n",
      "90   89.74\n",
      "91   89.95\n",
      "92   90.16\n",
      "93   90.31\n",
      "94   90.47\n",
      "95   90.69\n",
      "96   90.88000000000001\n",
      "97   91.09\n",
      "98   91.29\n",
      "99   91.53999999999999\n",
      "100   91.7\n",
      "101   91.88\n",
      "102   92.01\n",
      "103   92.15\n",
      "104   92.36\n",
      "105   92.56\n",
      "106   92.74\n",
      "107   92.86\n",
      "108   93.05\n",
      "109   93.15\n",
      "110   93.32000000000001\n",
      "111   93.5\n",
      "112   93.65\n",
      "113   93.91000000000001\n",
      "114   94.13\n",
      "115   94.31\n",
      "116   94.49\n",
      "117   94.65\n",
      "118   94.83\n",
      "119   95.06\n",
      "120   95.22\n",
      "121   95.45\n",
      "122   95.65\n",
      "123   95.77\n",
      "124   95.93\n",
      "125   96.1\n",
      "126   96.34\n",
      "127   96.54\n",
      "128   96.54\n",
      "[73.61, 73.8, 74.02, 74.22, 74.36, 74.53, 74.74, 74.98, 75.14, 75.4, 75.53999999999999, 75.7, 75.91, 76.12, 76.29, 76.48, 76.64, 76.77000000000001, 77.0, 77.16, 77.32, 77.58, 77.73, 77.85, 78.0, 78.13, 78.27, 78.36, 78.51, 78.66, 78.84, 79.08, 79.23, 79.38, 79.58, 79.77, 79.91, 80.08, 80.25999999999999, 80.43, 80.58999999999999, 80.72, 80.93, 81.06, 81.26, 81.45, 81.55, 81.69, 81.89999999999999, 82.07, 82.28999999999999, 82.54, 82.76, 82.83, 83.05, 83.3, 83.41, 83.62, 83.81, 84.05, 84.23, 84.45, 84.67, 84.91, 85.05, 85.26, 85.49, 85.72, 85.95, 86.15, 86.33999999999999, 86.46000000000001, 86.61999999999999, 86.77, 86.98, 87.13, 87.31, 87.46000000000001, 87.56, 87.69, 87.88, 88.05, 88.26, 88.44999999999999, 88.6, 88.79, 88.97, 89.2, 89.38000000000001, 89.56, 89.74, 89.95, 90.16, 90.31, 90.47, 90.69, 90.88000000000001, 91.09, 91.29, 91.53999999999999, 91.7, 91.88, 92.01, 92.15, 92.36, 92.56, 92.74, 92.86, 93.05, 93.15, 93.32000000000001, 93.5, 93.65, 93.91000000000001, 94.13, 94.31, 94.49, 94.65, 94.83, 95.06, 95.22, 95.45, 95.65, 95.77, 95.93, 96.1, 96.34, 96.54, 96.54]\n"
     ]
    }
   ],
   "source": [
    "#now retest -- get testing data\n",
    "split_test_loader = torch.utils.data.DataLoader(dataset=mnist_test_dataset,\n",
    "                                          batch_size=batch_size,\n",
    "                                          shuffle=False)\n",
    "\n",
    "\n",
    "scores = []\n",
    "for i in range(batch_size + 1):\n",
    "    split_images, split_labels = blur_some(split_test_loader, i)\n",
    "    split_test_loader = create_blur_loader(split_images, split_labels)\n",
    "    test_model(split_model, split_test_loader)\n",
    "\n",
    "    split_test_preds = []\n",
    "    split_test_probs = []\n",
    "\n",
    "    split_test_probs, split_test_preds = get_probabilities_and_predictions(split_model, split_test_loader)\n",
    "    split_observed_labels = get_observed_labels(split_test_loader)\n",
    "\n",
    "    conformal_predictions = conformal_prediction(split_test_probs, split_cal_threshold)\n",
    "    print (i , \" \", evaluate_and_print(split_observed_labels, conformal_predictions, split_test_preds, 100, 150))\n",
    "\n",
    "    scores.append(evaluate_and_print(split_observed_labels, conformal_predictions, split_test_preds, 100, 150))\n",
    "    split_test_loader = torch.utils.data.DataLoader(dataset=mnist_test_dataset,\n",
    "                                            batch_size=batch_size,\n",
    "                                            shuffle=False)\n",
    "    \n",
    "\n",
    "print(scores)"
   ]
  },
  {
   "cell_type": "code",
   "execution_count": 340,
   "metadata": {},
   "outputs": [
    {
     "name": "stdout",
     "output_type": "stream",
     "text": [
      "129\n",
      "129\n"
     ]
    },
    {
     "data": {
      "image/png": "[encoded data removed]",
      "text/plain": [
       "<Figure size 640x480 with 1 Axes>"
      ]
     },
     "metadata": {},
     "output_type": "display_data"
    }
   ],
   "source": [
    "dem = np.full(129, 128)\n",
    "num = np.linspace(0, 128, num = 129)\n",
    "proportion_normal = np.divide(num,dem)\n",
    "\n",
    "\n",
    "\n",
    "import matplotlib.pyplot as plt\n",
    "print(len(scores))\n",
    "print(len(proportion_normal))\n",
    "\n",
    "x = proportion_normal\n",
    "y = scores\n",
    "fig = plt.plot(figsize = (10, 5))\n",
    "plt.scatter(x, y, color = 'orange')\n",
    "# specifying horizontal line type \n",
    "plt.axhline(y = 95, color = 'r', linestyle = '-') \n",
    "plt.axvline(x = split_amount/batch_size, color = 'b', linestyle = '-' )\n",
    "\n",
    "plt.xlabel(\"Proportion of Normal Images\")\n",
    "plt.ylabel(\"Conformal Prediction Accuracy Score\")\n",
    "plt.title(\"Conformal Prediction Limitation: Shifted Distribution Datasets\")\n",
    "plt.show()\n"
   ]
  },
  {
   "cell_type": "code",
   "execution_count": 347,
   "metadata": {},
   "outputs": [
    {
     "data": {
      "image/png": "[encoded data removed]",
      "text/plain": [
       "<Figure size 600x400 with 1 Axes>"
      ]
     },
     "metadata": {},
     "output_type": "display_data"
    }
   ],
   "source": [
    "#fake data\n",
    "data = {'Class A': 0.43,\n",
    "        'Class B': 0.42,\n",
    "        'Class C': 0.10,\n",
    "        'Class D': 0.05,\n",
    "}\n",
    "\n",
    "threshold = 0.6\n",
    "\n",
    "classes = list(data.keys())\n",
    "softmax = list(data.values())\n",
    "\n",
    "fig, axs = plt.subplots(figsize=(6, 4))\n",
    "axs.bar(classes, softmax, color = 'blue', width = 0.4)\n",
    "axs.axhline(y = 1 - threshold, color = 'r', linestyle = '-', label = '1 - threshold') \n",
    "\n",
    "plt.xlabel(\"Classes\")\n",
    "plt.ylabel(\"Softmax Probabilities\")\n",
    "plt.title(\"Conformal Prediction Visual\")\n",
    "plt.legend()\n",
    "plt.show()\n"
   ]
  },
  {
   "cell_type": "code",
   "execution_count": 250,
   "metadata": {
    "colab": {
     "base_uri": "https://localhost:8080/"
    },
    "collapsed": true,
    "id": "z694V10FhPIR",
    "jupyter": {
     "outputs_hidden": true
    },
    "outputId": "a5bba8bd-b2de-4648-c51e-9d2b2c135ed0"
   },
   "outputs": [
    {
     "data": {
      "text/plain": [
       "'\\'\\'import cv2\\n\\n\\n\\nrotate_loader = torch.utils.data.DataLoader(dataset=mnist_test_dataset,\\n                                          batch_size=batch_size,\\n                                          shuffle=False)\\n\\nobserved_labels = []\\nwith torch.no_grad():\\n    for images, labels in mnist_test_loader:\\n        observed_labels.extend(labels.cpu().numpy())\\n\\n\\ndef rotate_image(image):\\n    image = image.numpy().squeeze()  # Convert to numpy array and remove batch dimension\\n    rows, cols = image.shape\\n    rotated_image = cv2.warpAffine(image, dsize=None, M=cv2.getRotationMatrix2D((cols / 2, rows / 2), -120, 1))\\n    return torch.tensor(rotated_image, dtype=torch.float32).unsqueeze(0)  # Add batch dimension back\\n\\nrotated_images = []\\nrotated_labels = []\\n\\nwith torch.no_grad():\\n    for images, labels in mnist_test_loader:\\n        for i in range(len(images)):\\n            rotated_image = rotate_image(images[i])\\n            rotated_images.append(rotated_image)\\n            rotated_labels.append(labels[i])\\n\\n\\nrotated_images = torch.stack(rotated_images)\\nrotated_labels = torch.tensor(rotated_labels)\\n\\n# Evaluate the model on the rotated test set\\nrotate_probs = []\\nrotate_preds = []\\n\\n# Flatten images for model input\\nrotated_images = rotated_images.view(len(rotated_images), -1).to(device)\\n\\n\\n# Evaluate the model on the entire rotated test set at once\\nwith torch.no_grad():\\n    outputs = model(rotated_images) #\\n    probabilities = torch.nn.functional.softmax(outputs, dim=1)\\n    _, rotate_preds = torch.max(outputs.data, 1)\\n\\nrotate_preds = rotate_preds.cpu().numpy()\\nrotate_probs = probabilities.cpu().numpy()\\n\\nconformal_predictions = conformal_prediction(rotate_probs, threshold)\\nprint(\"flip evaluation:\")\\nevaluate_and_print(observed_labels, conformal_predictions, rotate_preds, 10, 200)\\n\\n'"
      ]
     },
     "execution_count": 250,
     "metadata": {},
     "output_type": "execute_result"
    }
   ],
   "source": [
    "'''''import cv2\n",
    "\n",
    "\n",
    "\n",
    "rotate_loader = torch.utils.data.DataLoader(dataset=mnist_test_dataset,\n",
    "                                          batch_size=batch_size,\n",
    "                                          shuffle=False)\n",
    "\n",
    "observed_labels = []\n",
    "with torch.no_grad():\n",
    "    for images, labels in mnist_test_loader:\n",
    "        observed_labels.extend(labels.cpu().numpy())\n",
    "\n",
    "\n",
    "def rotate_image(image):\n",
    "    image = image.numpy().squeeze()  # Convert to numpy array and remove batch dimension\n",
    "    rows, cols = image.shape\n",
    "    rotated_image = cv2.warpAffine(image, dsize=None, M=cv2.getRotationMatrix2D((cols / 2, rows / 2), -120, 1))\n",
    "    return torch.tensor(rotated_image, dtype=torch.float32).unsqueeze(0)  # Add batch dimension back\n",
    "\n",
    "rotated_images = []\n",
    "rotated_labels = []\n",
    "\n",
    "with torch.no_grad():\n",
    "    for images, labels in mnist_test_loader:\n",
    "        for i in range(len(images)):\n",
    "            rotated_image = rotate_image(images[i])\n",
    "            rotated_images.append(rotated_image)\n",
    "            rotated_labels.append(labels[i])\n",
    "\n",
    "\n",
    "rotated_images = torch.stack(rotated_images)\n",
    "rotated_labels = torch.tensor(rotated_labels)\n",
    "\n",
    "# Evaluate the model on the rotated test set\n",
    "rotate_probs = []\n",
    "rotate_preds = []\n",
    "\n",
    "# Flatten images for model input\n",
    "rotated_images = rotated_images.view(len(rotated_images), -1).to(device)\n",
    "\n",
    "\n",
    "# Evaluate the model on the entire rotated test set at once\n",
    "with torch.no_grad():\n",
    "    outputs = model(rotated_images) #\n",
    "    probabilities = torch.nn.functional.softmax(outputs, dim=1)\n",
    "    _, rotate_preds = torch.max(outputs.data, 1)\n",
    "\n",
    "rotate_preds = rotate_preds.cpu().numpy()\n",
    "rotate_probs = probabilities.cpu().numpy()\n",
    "\n",
    "conformal_predictions = conformal_prediction(rotate_probs, threshold)\n",
    "print(\"flip evaluation:\")\n",
    "evaluate_and_print(observed_labels, conformal_predictions, rotate_preds, 10, 200)\n",
    "\n",
    "'''''\n"
   ]
  },
  {
   "cell_type": "code",
   "execution_count": null,
   "metadata": {
    "id": "PYXYQXhnfrmh"
   },
   "outputs": [],
   "source": []
  }
 ],
 "metadata": {
  "colab": {
   "include_colab_link": true,
   "provenance": []
  },
  "kernelspec": {
   "display_name": "Python 3 (ipykernel)",
   "language": "python",
   "name": "python3"
  },
  "language_info": {
   "codemirror_mode": {
    "name": "ipython",
    "version": 3
   },
   "file_extension": ".py",
   "mimetype": "text/x-python",
   "name": "python",
   "nbconvert_exporter": "python",
   "pygments_lexer": "ipython3",
   "version": "3.12.2"
  }
 },
 "nbformat": 4,
 "nbformat_minor": 4
}
